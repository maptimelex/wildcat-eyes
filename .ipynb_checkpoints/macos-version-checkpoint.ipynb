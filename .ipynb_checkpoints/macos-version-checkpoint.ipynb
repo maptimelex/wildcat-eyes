{
 "cells": [
  {
   "cell_type": "code",
   "execution_count": 1,
   "metadata": {},
   "outputs": [],
   "source": [
    "# Subprocess allows us to issue commands on the command line\n",
    "import subprocess\n",
    "# Module to download files with an URL\n",
    "import urllib.request\n",
    "# Zip utlity to extract files\n",
    "from zipfile import ZipFile\n"
   ]
  },
  {
   "cell_type": "code",
   "execution_count": 11,
   "metadata": {},
   "outputs": [
    {
     "name": "stdout",
     "output_type": "stream",
     "text": [
      "Check your naip_year variable.\n"
     ]
    }
   ],
   "source": [
    "############### Project properties ###############\n",
    "\n",
    "# Root GIS directory\n",
    "# Got to use double backslash because of other modules\n",
    "root = \"/Users/boyd/Downloads\"\n",
    "\n",
    "# Project name - creates a folder in project directory\n",
    "project = \"photos\"\n",
    "\n",
    "# 2018, 2016, 2006 (all 2-ft resolution orthophoto)\n",
    "# 2014, 2012, 2010, 2008 (all 2-ft resolution orthophoto)\n",
    "year = \"2006\" \n",
    "\n",
    "# Enable to download leaf-off imagery\n",
    "# 1ft or 6in\n",
    "# The entire state is not covered; check tile index\n",
    "# resoultion = \"1ft\" \n",
    "\n",
    "data_names = [\"ftp://ftp.kymartian.ky.gov/FSA_NAIP_2006_2FT/ky_2ft_naip_2006_n042e141.zip\",\n",
    "\"ftp://ftp.kymartian.ky.gov/FSA_NAIP_2006_2FT/ky_2ft_naip_2006_n042e142.zip\",\n",
    "\"ftp://ftp.kymartian.ky.gov/FSA_NAIP_2006_2FT/ky_2ft_naip_2006_n042e143.zip\",\n",
    "\"ftp://ftp.kymartian.ky.gov/FSA_NAIP_2006_2FT/ky_2ft_naip_2006_n042e144.zip\",\n",
    "\"ftp://ftp.kymartian.ky.gov/FSA_NAIP_2006_2FT/ky_2ft_naip_2006_n042e145.zip\"\n",
    "]\n",
    "\n",
    "if f\"_{naip_year}_\" not in data_names[0]:\n",
    "    print(\"Check your naip_year variable.\")"
   ]
  },
  {
   "cell_type": "code",
   "execution_count": 12,
   "metadata": {},
   "outputs": [
    {
     "name": "stdout",
     "output_type": "stream",
     "text": [
      "mkdir /Users/boyd/Downloads/photos\n",
      "mkdir /Users/boyd/Downloads/photos/downloads\n",
      "mkdir /Users/boyd/Downloads/photos/lidar\n",
      "mkdir /Users/boyd/Downloads/photos/downloads/2006\n",
      "total 16\n",
      "drwxr-xr-x   5 boyd  staff   160 Nov 11 18:29 .\n",
      "drwx------+ 44 boyd  staff  1408 Nov 11 18:28 ..\n",
      "-rw-r--r--@  1 boyd  staff  6148 Nov 11 18:29 .DS_Store\n",
      "drwxr-xr-x  15 boyd  staff   480 Nov 11 19:54 downloads\n",
      "drwxr-xr-x   2 boyd  staff    64 Nov 11 18:28 lidar\n",
      "\n"
     ]
    }
   ],
   "source": [
    "# Downloads folder\n",
    "downloads = f'{root}/{project}/downloads'\n",
    "lidar = f'{root}/{project}/lidar'\n",
    "naip_year = f'{downloads}/{year}'\n",
    "\n",
    "# Create folders\n",
    "folders = [f'{root}/{project}', downloads, lidar, naip_year]\n",
    "for folder in folders:\n",
    "    subprocess.run(f'mkdir {folder}', shell=True, stdout=subprocess.PIPE)\n",
    "    print(f\"mkdir {folder}\")\n",
    "    \n",
    "# Show contents of project directory\n",
    "completed = subprocess.run(f'ls -la {root}/{project}', shell=True, stdout=subprocess.PIPE)\n",
    "print(completed.stdout.decode('UTF-8'))"
   ]
  },
  {
   "cell_type": "code",
   "execution_count": 15,
   "metadata": {},
   "outputs": [
    {
     "name": "stdout",
     "output_type": "stream",
     "text": [
      "Downloading ftp://ftp.kymartian.ky.gov/FSA_NAIP_2006_2FT/ky_2ft_naip_2006_n042e141.zip\n",
      "mv /Users/boyd/Downloads/photos/downloads/n042e141/*.* /Users/boyd/Downloads/photos/downloads/2006\n",
      "\n",
      "Downloading ftp://ftp.kymartian.ky.gov/FSA_NAIP_2006_2FT/ky_2ft_naip_2006_n042e142.zip\n",
      "mv /Users/boyd/Downloads/photos/downloads/n042e142/*.* /Users/boyd/Downloads/photos/downloads/2006\n",
      "\n",
      "Downloading ftp://ftp.kymartian.ky.gov/FSA_NAIP_2006_2FT/ky_2ft_naip_2006_n042e143.zip\n",
      "mv /Users/boyd/Downloads/photos/downloads/n042e143/*.* /Users/boyd/Downloads/photos/downloads/2006\n",
      "\n",
      "Downloading ftp://ftp.kymartian.ky.gov/FSA_NAIP_2006_2FT/ky_2ft_naip_2006_n042e144.zip\n",
      "mv /Users/boyd/Downloads/photos/downloads/n042e144/*.* /Users/boyd/Downloads/photos/downloads/2006\n",
      "\n",
      "Downloading ftp://ftp.kymartian.ky.gov/FSA_NAIP_2006_2FT/ky_2ft_naip_2006_n042e145.zip\n",
      "mv /Users/boyd/Downloads/photos/downloads/n042e145/*.* /Users/boyd/Downloads/photos/downloads/2006\n",
      "\n"
     ]
    }
   ],
   "source": [
    "i = 0\n",
    "if \"laz\" in data_names[0][-3:].lower():\n",
    "    las_names = []\n",
    "    for url in data_names:\n",
    "        name = url[-12:]\n",
    "        las_names.append(f'{lidar}{url[-12:-4]}.las')\n",
    "        with urllib.request.urlopen(url) as response: \n",
    "            print(f'Downloading {url}')\n",
    "            with open(f'{downloads}{name}', 'wb') as outFile:\n",
    "                data = response.read()\n",
    "                outFile.write(data)   \n",
    "#         print(f'Using: {las_tools} -i {downloads}{name} -o {las_names[i]}')\n",
    "#         completed = subprocess.run(f'{las_tools} -i {downloads}{name} -o {las_names[i]}', shell=True, stdout=subprocess.PIPE)\n",
    "        i += 1\n",
    "elif \"zip\" in data_names[0][-3:].lower():\n",
    "    naip_names = []\n",
    "    if year == \"2016\":\n",
    "        # NAIP files have prefix\n",
    "        naip_prefix = \"ky_2ft_naip_2016_\"\n",
    "        extension = \"jpg\"\n",
    "    elif year == \"2018\":\n",
    "        naip_prefix = \"KY_2FT_NAIP_2018_\"\n",
    "        extension = \"tif\"\n",
    "    elif year == \"2006\":\n",
    "        naip_prefix = \"ky_2ft_naip_2006_\"\n",
    "        extension = \"jpg\"\n",
    "    elif year == \"2008\":\n",
    "        naip_prefix = \"ky_1m_naip_2008_\"\n",
    "        extension = \"jpg\"\n",
    "    elif year == \"2010\":\n",
    "        naip_prefix = \"ky_1m_naip_2010_\"\n",
    "        extension = \"jpg\"\n",
    "    elif year == \"2012\":\n",
    "        naip_prefix = \"ky_1m_naip_2012_\"\n",
    "        extension = \"jpg\"\n",
    "    elif year == \"2014\":\n",
    "        naip_prefix = \"ky_1m_naip_2014_\"\n",
    "        extension = \"jpg\"\n",
    "    for url in data_names:\n",
    "    #     url = row.replace(\"_2016_\", f\"_{naip_year}_\")\n",
    "        name = url[-12:-4]\n",
    "        naip_names.append(name)\n",
    "        print(f'Downloading {url}')\n",
    "        with urllib.request.urlopen(url) as response: \n",
    "            with open(f'{downloads}/{name}.zip', 'wb') as outFile:\n",
    "                data = response.read()\n",
    "                outFile.write(data) \n",
    "        with ZipFile(f'{downloads}/{name}.zip', 'r') as zip: \n",
    "            zip.extractall(f'{downloads}/{name}')\n",
    "        print(f'mv {downloads}/{name}/*.* {naip_year}')\n",
    "        completed = subprocess.run(f'mv {downloads}/{name}/*.* {naip_year}', shell=True, stdout=subprocess.PIPE)\n",
    "        print(completed.stdout.decode('UTF-8'))\n",
    "        i += 1\n",
    "    "
   ]
  },
  {
   "cell_type": "code",
   "execution_count": 13,
   "metadata": {},
   "outputs": [
    {
     "name": "stdout",
     "output_type": "stream",
     "text": [
      "/Users/boyd/Downloads/photos/downloads/2006\n",
      "mv /Users/boyd/Downloads/photos/downloads/n042e143/*.* /Users/boyd/Downloads/photos/downloads/2006/*\n"
     ]
    }
   ],
   "source": [
    "# print(f'mv {downloads}{name}/{naip_prefix}{name}.* {naip_year}')\n",
    "print(naip_year)\n",
    "print(f'mv {downloads}/{name}/*.* {naip_year}/*')"
   ]
  },
  {
   "cell_type": "code",
   "execution_count": null,
   "metadata": {},
   "outputs": [],
   "source": []
  }
 ],
 "metadata": {
  "kernelspec": {
   "display_name": "Python 3",
   "language": "python",
   "name": "python3"
  },
  "language_info": {
   "codemirror_mode": {
    "name": "ipython",
    "version": 3
   },
   "file_extension": ".py",
   "mimetype": "text/x-python",
   "name": "python",
   "nbconvert_exporter": "python",
   "pygments_lexer": "ipython3",
   "version": "3.6.5"
  }
 },
 "nbformat": 4,
 "nbformat_minor": 2
}
