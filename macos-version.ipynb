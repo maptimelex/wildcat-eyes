{
 "cells": [
  {
   "cell_type": "code",
   "execution_count": 5,
   "metadata": {},
   "outputs": [],
   "source": [
    "# Subprocess allows us to issue commands on the command line\n",
    "import subprocess\n",
    "# Module to download files with an URL\n",
    "import urllib.request\n",
    "# Zip utlity to extract files\n",
    "from zipfile import ZipFile\n"
   ]
  },
  {
   "cell_type": "code",
   "execution_count": 12,
   "metadata": {},
   "outputs": [
    {
     "name": "stdout",
     "output_type": "stream",
     "text": [
      "Check your naip_year variable.\n"
     ]
    }
   ],
   "source": [
    "############### Project properties ###############\n",
    "\n",
    "# Root GIS directory\n",
    "# Got to use double backslash because of other modules\n",
    "root = \"/Users/boyd/Downloads/\"\n",
    "\n",
    "# Project name - creates a folder in project directory\n",
    "project = \"photos2006\"\n",
    "\n",
    "naip_year = \"2008\" # 2018, 2016, 2006 (all 2-ft resolution orthophoto)\n",
    "\n",
    "data_names = [\"ftp://ftp.kymartian.ky.gov/FSA_NAIP_2006_2FT/ky_2ft_naip_2006_n042e141.zip\",\n",
    "\"ftp://ftp.kymartian.ky.gov/FSA_NAIP_2006_2FT/ky_2ft_naip_2006_n042e142.zip\",\n",
    "\"ftp://ftp.kymartian.ky.gov/FSA_NAIP_2006_2FT/ky_2ft_naip_2006_n042e143.zip\",\n",
    "\"ftp://ftp.kymartian.ky.gov/FSA_NAIP_2006_2FT/ky_2ft_naip_2006_n042e144.zip\",\n",
    "\"ftp://ftp.kymartian.ky.gov/FSA_NAIP_2006_2FT/ky_2ft_naip_2006_n042e145.zip\"\n",
    "]\n",
    "\n",
    "\n",
    "############### Local existing assets ###############\n",
    "# Location of the laszip64.exe utility\n",
    "las_tools = f\"{root}/data/lidar/laszip64.exe\"\n",
    "\n",
    "# Location of the PotreeConverter.exe utility\n",
    "potree_tools = f\"{root}\\\\potree\\\\PotreeConverter.exe\"\n",
    "\n",
    "if f\"_{naip_year}_\" not in data_names[0]:\n",
    "    print(\"Check your naip_year variable.\")"
   ]
  },
  {
   "cell_type": "code",
   "execution_count": 8,
   "metadata": {},
   "outputs": [
    {
     "name": "stdout",
     "output_type": "stream",
     "text": [
      "mkdir /Users/boyd/Downloads/photos2006\n",
      "mkdir /Users/boyd/Downloads//photos2006/downloads/\n",
      "mkdir /Users/boyd/Downloads//photos2006/lidar/\n",
      "mkdir /Users/boyd/Downloads//photos2006/lidar_extract/\n",
      "mkdir /Users/boyd/Downloads//photos2006/lidar_color/\n",
      "\n"
     ]
    }
   ],
   "source": [
    "# Downloads folder\n",
    "downloads = f'{root}{project}/downloads/'\n",
    "lidar = f'{root}{project}/lidar/'\n",
    "year = f'{downloads}/{naip_year}'\n",
    "\n",
    "# Create folders\n",
    "folders = [f'{root}{project}', downloads, lidar, year]\n",
    "for folder in folders:\n",
    "    subprocess.run(f'mkdir {folder}', shell=True, stdout=subprocess.PIPE)\n",
    "    print(f\"mkdir {folder}\")\n",
    "    \n",
    "# Show contents of project directory\n",
    "completed = subprocess.run(f'dir {root}{project}', shell=True, stdout=subprocess.PIPE)\n",
    "print(completed.stdout.decode('UTF-8'))\n"
   ]
  },
  {
   "cell_type": "code",
   "execution_count": 10,
   "metadata": {},
   "outputs": [
    {
     "name": "stdout",
     "output_type": "stream",
     "text": [
      "Downloading ftp://ftp.kymartian.ky.gov/FSA_NAIP_2006_2FT/ky_2ft_naip_2006_n042e141.zip\n",
      "/Users/boyd/Downloads//photos2006/downloads/n042e141\\ky_2ft_naip_2006_n042e141.jpg\n"
     ]
    },
    {
     "ename": "NameError",
     "evalue": "name 'arcpy' is not defined",
     "output_type": "error",
     "traceback": [
      "\u001b[0;31m---------------------------------------------------------------------------\u001b[0m",
      "\u001b[0;31mNameError\u001b[0m                                 Traceback (most recent call last)",
      "\u001b[0;32m<ipython-input-10-01727cffd021>\u001b[0m in \u001b[0;36m<module>\u001b[0;34m\u001b[0m\n\u001b[1;32m     38\u001b[0m             \u001b[0mzip\u001b[0m\u001b[0;34m.\u001b[0m\u001b[0mextractall\u001b[0m\u001b[0;34m(\u001b[0m\u001b[0;34mf'{downloads}{name}'\u001b[0m\u001b[0;34m)\u001b[0m\u001b[0;34m\u001b[0m\u001b[0;34m\u001b[0m\u001b[0m\n\u001b[1;32m     39\u001b[0m         \u001b[0mprint\u001b[0m\u001b[0;34m(\u001b[0m\u001b[0;34mf'{downloads}{name}\\\\{naip_prefix}{name}.{extension}'\u001b[0m\u001b[0;34m)\u001b[0m\u001b[0;34m\u001b[0m\u001b[0;34m\u001b[0m\u001b[0m\n\u001b[0;32m---> 40\u001b[0;31m         \u001b[0marcpy\u001b[0m\u001b[0;34m.\u001b[0m\u001b[0mCopyRaster_management\u001b[0m \u001b[0;34m(\u001b[0m\u001b[0;34mf'{downloads}{name}\\\\{naip_prefix}{name}.{extension}'\u001b[0m\u001b[0;34m,\u001b[0m \u001b[0mname\u001b[0m\u001b[0;34m)\u001b[0m\u001b[0;34m\u001b[0m\u001b[0;34m\u001b[0m\u001b[0m\n\u001b[0m\u001b[1;32m     41\u001b[0m         \u001b[0mi\u001b[0m \u001b[0;34m+=\u001b[0m \u001b[0;36m1\u001b[0m\u001b[0;34m\u001b[0m\u001b[0;34m\u001b[0m\u001b[0m\n\u001b[1;32m     42\u001b[0m \u001b[0;34m\u001b[0m\u001b[0m\n",
      "\u001b[0;31mNameError\u001b[0m: name 'arcpy' is not defined"
     ]
    }
   ],
   "source": [
    "i = 0\n",
    "if \"laz\" in data_names[0][-3:].lower():\n",
    "    las_names = []\n",
    "    for url in data_names:\n",
    "        name = url[-12:]\n",
    "        las_names.append(f'{lidar}{url[-12:-4]}.las')\n",
    "        with urllib.request.urlopen(url) as response: \n",
    "            print(f'Downloading {url}')\n",
    "            with open(f'{downloads}{name}', 'wb') as outFile:\n",
    "                data = response.read()\n",
    "                outFile.write(data)   \n",
    "        print(f'Using: {las_tools} -i {downloads}{name} -o {las_names[i]}')\n",
    "        completed = subprocess.run(f'{las_tools} -i {downloads}{name} -o {las_names[i]}', shell=True, stdout=subprocess.PIPE)\n",
    "        i += 1\n",
    "\n",
    "elif \"zip\" in data_names[0][-3:].lower():\n",
    "    naip_names = []\n",
    "    if \"_2016_\" in data_names[0]:\n",
    "        # NAIP files have prefix\n",
    "        naip_prefix = \"ky_2ft_naip_2016_\"\n",
    "        extension = \"jpg\"\n",
    "    elif \"_2018_\"in data_names[0]:\n",
    "        naip_prefix = \"KY_2FT_NAIP_2018_\"\n",
    "        extension = \"tif\"\n",
    "    elif \"_2006_\"in data_names[0]:\n",
    "        naip_prefix = \"ky_2ft_naip_2006_\"\n",
    "        extension = \"jpg\"\n",
    "    for url in data_names:\n",
    "    #     url = row.replace(\"_2016_\", f\"_{naip_year}_\")\n",
    "        name = url[-12:-4]\n",
    "        naip_names.append(name)\n",
    "        print(f'Downloading {url}')\n",
    "        with urllib.request.urlopen(url) as response: \n",
    "            with open(f'{downloads}{name}.zip', 'wb') as outFile:\n",
    "                data = response.read()\n",
    "                outFile.write(data) \n",
    "        with ZipFile(f'{downloads}{name}.zip', 'r') as zip: \n",
    "            zip.extractall(f'{downloads}{name}')\n",
    "        print(f'{downloads}{name}\\\\{naip_prefix}{name}.{extension}')\n",
    "        i += 1\n",
    "    "
   ]
  },
  {
   "cell_type": "code",
   "execution_count": null,
   "metadata": {},
   "outputs": [],
   "source": []
  }
 ],
 "metadata": {
  "kernelspec": {
   "display_name": "Python 3",
   "language": "python",
   "name": "python3"
  },
  "language_info": {
   "codemirror_mode": {
    "name": "ipython",
    "version": 3
   },
   "file_extension": ".py",
   "mimetype": "text/x-python",
   "name": "python",
   "nbconvert_exporter": "python",
   "pygments_lexer": "ipython3",
   "version": "3.7.3"
  }
 },
 "nbformat": 4,
 "nbformat_minor": 2
}
